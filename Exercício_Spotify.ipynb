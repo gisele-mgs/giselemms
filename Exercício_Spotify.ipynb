{
  "nbformat": 4,
  "nbformat_minor": 0,
  "metadata": {
    "colab": {
      "provenance": [],
      "include_colab_link": true
    },
    "kernelspec": {
      "name": "python3",
      "display_name": "Python 3"
    },
    "language_info": {
      "name": "python"
    }
  },
  "cells": [
    {
      "cell_type": "markdown",
      "metadata": {
        "id": "view-in-github",
        "colab_type": "text"
      },
      "source": [
        "<a href=\"https://colab.research.google.com/github/gisele-mgs/giselemms/blob/main/Exerc%C3%ADcio_Spotify.ipynb\" target=\"_parent\"><img src=\"https://colab.research.google.com/assets/colab-badge.svg\" alt=\"Open In Colab\"/></a>"
      ]
    },
    {
      "cell_type": "code",
      "execution_count": null,
      "metadata": {
        "colab": {
          "base_uri": "https://localhost:8080/"
        },
        "id": "PTnmT2e-U-ms",
        "outputId": "4ef72db4-e6e8-4875-b034-96adac0f2a3b"
      },
      "outputs": [
        {
          "output_type": "stream",
          "name": "stdout",
          "text": [
            "Collecting plotly_express\n",
            "  Downloading plotly_express-0.4.1-py2.py3-none-any.whl.metadata (1.7 kB)\n",
            "Requirement already satisfied: pandas>=0.20.0 in /usr/local/lib/python3.11/dist-packages (from plotly_express) (2.2.2)\n",
            "Requirement already satisfied: plotly>=4.1.0 in /usr/local/lib/python3.11/dist-packages (from plotly_express) (5.24.1)\n",
            "Requirement already satisfied: statsmodels>=0.9.0 in /usr/local/lib/python3.11/dist-packages (from plotly_express) (0.14.4)\n",
            "Requirement already satisfied: scipy>=0.18 in /usr/local/lib/python3.11/dist-packages (from plotly_express) (1.14.1)\n",
            "Requirement already satisfied: patsy>=0.5 in /usr/local/lib/python3.11/dist-packages (from plotly_express) (1.0.1)\n",
            "Requirement already satisfied: numpy>=1.11 in /usr/local/lib/python3.11/dist-packages (from plotly_express) (2.0.2)\n",
            "Requirement already satisfied: python-dateutil>=2.8.2 in /usr/local/lib/python3.11/dist-packages (from pandas>=0.20.0->plotly_express) (2.8.2)\n",
            "Requirement already satisfied: pytz>=2020.1 in /usr/local/lib/python3.11/dist-packages (from pandas>=0.20.0->plotly_express) (2025.1)\n",
            "Requirement already satisfied: tzdata>=2022.7 in /usr/local/lib/python3.11/dist-packages (from pandas>=0.20.0->plotly_express) (2025.1)\n",
            "Requirement already satisfied: tenacity>=6.2.0 in /usr/local/lib/python3.11/dist-packages (from plotly>=4.1.0->plotly_express) (9.0.0)\n",
            "Requirement already satisfied: packaging in /usr/local/lib/python3.11/dist-packages (from plotly>=4.1.0->plotly_express) (24.2)\n",
            "Requirement already satisfied: six>=1.5 in /usr/local/lib/python3.11/dist-packages (from python-dateutil>=2.8.2->pandas>=0.20.0->plotly_express) (1.17.0)\n",
            "Downloading plotly_express-0.4.1-py2.py3-none-any.whl (2.9 kB)\n",
            "Installing collected packages: plotly_express\n",
            "Successfully installed plotly_express-0.4.1\n"
          ]
        }
      ],
      "source": [
        "!pip install plotly_express"
      ]
    },
    {
      "cell_type": "code",
      "source": [
        "import plotly_express as px\n",
        "import pandas as pd"
      ],
      "metadata": {
        "id": "MFQHZf_aVe3x"
      },
      "execution_count": null,
      "outputs": []
    },
    {
      "cell_type": "markdown",
      "source": [
        "## Exercício\n",
        "\n",
        "Neste exercício, usaremos dados sobre as músicas mais populares de 2023. O conjunto de dados contém informação musical do Spotify e revela a essência de cada música, desde batidas por minuto até percentuais de dançabilidade.\n",
        "\n",
        "\n",
        "### O conjunto de dados\n",
        "\n",
        "O conjunto de dados deste projeto contém uma lista abrangente das músicas mais famosas de 2023, conforme listado no Spotify. Os dados incluem o nome da faixa, nome(s) do(s) artista(s), data de lançamento, presença em playlists e paradas do Spotify, estatísticas de streaming, presença no Apple Music, presença no Deezer, rankings do Shazam e diversas características sonoras.\n",
        "\n",
        "Principais características do conjunto de dados:\n",
        "\n",
        "- track_name: Nome da música\n",
        "- artist_name: Nome do artista da música\n",
        "- artist_count: Número de artistas que contribuem para a música\n",
        "- released_year: Ano em que a música foi lançada\n",
        "- released_month: Mês em que a música foi lançada\n",
        "- released_day: Dia do mês em que a música foi lançada\n",
        "- in_spotify_playlists: Número de playlists do Spotify em que a música está incluída\n",
        "- in_spotify_charts: Presença e posição da música nas paradas do Spotify\n",
        "- streams: Número total de streams no Spotify\n",
        "- in_apple_playlists: Número de playlists do Apple Music em que a música está incluída\n",
        "- in_apple_charts: Presença e posição da música nas paradas do Apple Music\n",
        "- in_deezer_playlists: Número de playlists do Deezer em que a música está incluída\n",
        "- in_deezer_charts: Presença e posição da música nas paradas do Deezer\n",
        "- in_shazam_charts: Presença e posição da música nas paradas do Shazam\n",
        "- bpm: Batidas por minuto, uma medida do tempo da música\n",
        "- key: Tom da música\n",
        "- mode: Modo da música (maior ou menor)\n",
        "- danceability_%: Percentual que indica quão adequada a música é para dançar\n",
        "- valence_%: Positividade do conteúdo musical da música\n",
        "- energy_%: Nível de energia percebido da música\n",
        "- acousticness_%: Quantidade de som acústico na música\n",
        "- instrumentalness_%: Quantidade de conteúdo instrumental na música\n",
        "- liveness_%: Presença de elementos de performance ao vivo\n",
        "- speechiness_%: Quantidade de palavras faladas na música\n",
        "\n",
        "\n"
      ],
      "metadata": {
        "id": "iQ6mNJW9vrv3"
      }
    },
    {
      "cell_type": "markdown",
      "source": [
        "1.Use a biblioteca pandas para carregar o arquivo \"spotify-2023.csv\". Use o encoding \"latin1\"."
      ],
      "metadata": {
        "id": "GHlJj77-xeZA"
      }
    },
    {
      "cell_type": "code",
      "source": [],
      "metadata": {
        "id": "FH1Oc7uLy3qq"
      },
      "execution_count": null,
      "outputs": []
    },
    {
      "cell_type": "markdown",
      "source": [
        "2.Verifique se há dados faltantes ou duplicados. Remova as linhas correspondente a essas ocorrências."
      ],
      "metadata": {
        "id": "t47yJ5h_y621"
      }
    },
    {
      "cell_type": "code",
      "source": [],
      "metadata": {
        "id": "Yux4NKiEVhX8"
      },
      "execution_count": null,
      "outputs": []
    },
    {
      "cell_type": "markdown",
      "source": [
        "3.Construa visualizações que analisem os artistas que mais aparecem (diga se você consegue observar coisas interessantes):\n",
        "- As músicas com mais streams no spotify\n",
        "- Os artistas com mais streams no spotify"
      ],
      "metadata": {
        "id": "uu_RK6XRUlvu"
      }
    },
    {
      "cell_type": "code",
      "source": [],
      "metadata": {
        "id": "N8EjI6PoVmFR"
      },
      "execution_count": null,
      "outputs": []
    },
    {
      "cell_type": "markdown",
      "source": [
        "4. Construa visualizações que analisem:\n",
        "- O número de streams no spotify para cada ano de lançamento (released_year)\n",
        "- A corelação entre o número de presenças nas playlists de cada um dos streams (spotify, apple e deezer)\n",
        "- A corelação entre o número de presenças nas paradas de cada um dos streams (spotify, apple, deezer e shazam)"
      ],
      "metadata": {
        "id": "hb2dDHZ8SQ_r"
      }
    },
    {
      "cell_type": "code",
      "source": [],
      "metadata": {
        "id": "dmZaBiKQ_Wbr"
      },
      "execution_count": null,
      "outputs": []
    },
    {
      "cell_type": "markdown",
      "source": [
        "5. Construa um gráfico de coordenadas paralelas para analisar as colunas 'in_spotify_playlists', 'in_spotify_charts', 'streams', 'in_apple_playlists', 'in_apple_charts', 'in_deezer_playlists', 'in_deezer_charts', 'in_shazam_charts'. Descreva padrões que você consegue observar. Tente focar em outliers e faixas que apresentam relações notáveis entre os diferentes eixos."
      ],
      "metadata": {
        "id": "pNrPt_U4Wyqv"
      }
    },
    {
      "cell_type": "code",
      "source": [
        "\n"
      ],
      "metadata": {
        "id": "03SprrPqWfvz"
      },
      "execution_count": null,
      "outputs": []
    },
    {
      "cell_type": "markdown",
      "source": [
        "6. Use of TSNE para analisar possíveis grupos de músicas em termos das colunas 'danceability_%','valence_%','energy_%','acousticness_%','instrumentalness_%','liveness_%','speechiness_%'. Tente vários valores de perplexity (geralmente entre 5 e 50) e escolha aquele que parece formar uma melhor sepração visual. Depois, tente colorir os pontos pelas diferentes colunas. Comente os resultados."
      ],
      "metadata": {
        "id": "jVP0d8spX8wr"
      }
    },
    {
      "cell_type": "code",
      "source": [],
      "metadata": {
        "id": "i_lfNPQQ4cq4"
      },
      "execution_count": null,
      "outputs": []
    },
    {
      "cell_type": "markdown",
      "source": [
        "7.O arquivo BestArtists.csv contém as 10 músicas mais populares para os artistas mais influentes do spotify. A definição dos campos está [aqui](https://developer.spotify.com/documentation/web-api/reference/get-audio-features). Neste exercício, você deve escolher o seu artista favorito da lista. Depois, você deve analisar as músicas do mesmo. Para isso você deve:\n",
        "\n",
        "- Analisar as características (danceability,\tenergy,\tkey,\tloudness,\tmode,\tspeechiness,\tacousticness,\tinstrumentalness,\tliveness,\tvalence,\ttempo,\tduration_ms,\ttime_signature) via um gráfico de coordenadas paralelas. Você consegue comentar se as músicas que você conhece tem características numéricas que fazem sentido com sua intuição da música? Existem outliers?\n",
        "\n",
        "- Faça um plot TSNE (scatterplot) das músicas. Existem clusters de músicas ou músicas outliers? Existem músicas que você não conhece próximas de músicas que você conhece? Se sim, comente as características da mesma."
      ],
      "metadata": {
        "id": "slLzbEOcePP9"
      }
    },
    {
      "cell_type": "code",
      "source": [],
      "metadata": {
        "id": "tyZMh7O09aeM"
      },
      "execution_count": null,
      "outputs": []
    },
    {
      "cell_type": "markdown",
      "source": [
        "8. Ainda usando o arquivo BestArtists.csv, você deve agora escolher 3 artistas e fazer um plot TSNE colorindo os pontos pelo nome do artista. Existem clusters que misturam músicas dos diferentes artistas? Comente os resultados."
      ],
      "metadata": {
        "id": "uS-QjjTl-t69"
      }
    },
    {
      "cell_type": "code",
      "source": [],
      "metadata": {
        "id": "AwMoBrR7wMUw"
      },
      "execution_count": null,
      "outputs": []
    }
  ]
}